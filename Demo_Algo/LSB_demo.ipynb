{
 "cells": [
  {
   "cell_type": "markdown",
   "metadata": {},
   "source": [
    "# LSB Introduction \n",
    "LSB demo with my images by JunMing.\n"
   ]
  },
  {
   "cell_type": "code",
   "execution_count": 2,
   "metadata": {},
   "outputs": [],
   "source": [
    "from PIL import Image\n",
    "import DemoStegJunMing\n",
    "from DemoStegJunMing import JunMingSteg as JM\n",
    "\n",
    "steg = JM()"
   ]
  },
  {
   "cell_type": "code",
   "execution_count": 3,
   "metadata": {},
   "outputs": [],
   "source": [
    "path = \"test_message.txt\"\n",
    "message = steg.bits_to_message(steg.file_txt_to_bits(path))\n",
    "\n",
    "# message = \"\"\"\n",
    "# Image are display in RGB format, i\n",
    "# mshow treat the 3-way arra\n",
    "# y of img2 as RGB planes. That is for what\n",
    "# ever color space you use\n",
    "# d for manipulating the image, you need t\n",
    "# o convert back to RGB to\n",
    "# show it.\n",
    "# \"\"\"\n",
    "\n",
    "image_path = \"images/4.jpg\"\n",
    "saved_path = \"encoded_message/encoded.png\""
   ]
  },
  {
   "cell_type": "code",
   "execution_count": 4,
   "metadata": {},
   "outputs": [
    {
     "name": "stdout",
     "output_type": "stream",
     "text": [
      "Encode Sucessfully!\n",
      "Encoded image saved at: encoded_message/encoded.png\n"
     ]
    }
   ],
   "source": [
    "steg.steg_message_imagepath_savepath(message,image_path,saved_path)"
   ]
  },
  {
   "cell_type": "code",
   "execution_count": 5,
   "metadata": {},
   "outputs": [],
   "source": [
    "#steg.new_save_path to steg the latest path\n",
    "#Or write your own path\n",
    "\n",
    "path = \"encoded_message\\encoded.png\""
   ]
  },
  {
   "cell_type": "code",
   "execution_count": 6,
   "metadata": {},
   "outputs": [
    {
     "name": "stdout",
     "output_type": "stream",
     "text": [
      "Nghìn buổi sáng, bình minh xe chỉ thắm\n",
      "Đem lòng tôi ràng rịt với xuân tươi.\n",
      "Thuở xưa kia là con của mặt trời,\n",
      "Tôi có lửa ở trong mình nắng đọng.\n"
     ]
    }
   ],
   "source": [
    "steg.decode_image(path)"
   ]
  }
 ],
 "metadata": {
  "kernelspec": {
   "display_name": "Python 3 (ipykernel)",
   "language": "python",
   "name": "python3"
  },
  "language_info": {
   "codemirror_mode": {
    "name": "ipython",
    "version": 3
   },
   "file_extension": ".py",
   "mimetype": "text/x-python",
   "name": "python",
   "nbconvert_exporter": "python",
   "pygments_lexer": "ipython3",
   "version": "3.10.5"
  }
 },
 "nbformat": 4,
 "nbformat_minor": 2
}
